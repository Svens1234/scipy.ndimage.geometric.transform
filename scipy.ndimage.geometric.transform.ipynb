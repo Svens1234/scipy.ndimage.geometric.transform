{
 "cells": [
  {
   "cell_type": "code",
   "execution_count": 1,
   "id": "8c755940",
   "metadata": {},
   "outputs": [],
   "source": [
    "import numpy as np\n",
    "from scipy.ndimage import geometric_transform"
   ]
  },
  {
   "cell_type": "code",
   "execution_count": 2,
   "id": "fa253f57",
   "metadata": {},
   "outputs": [],
   "source": [
    "a = np.arange(12.).reshape((4, 3))"
   ]
  },
  {
   "cell_type": "code",
   "execution_count": 3,
   "id": "18fbf584",
   "metadata": {},
   "outputs": [
    {
     "data": {
      "text/plain": [
       "array([[ 0.,  1.,  2.],\n",
       "       [ 3.,  4.,  5.],\n",
       "       [ 6.,  7.,  8.],\n",
       "       [ 9., 10., 11.]])"
      ]
     },
     "execution_count": 3,
     "metadata": {},
     "output_type": "execute_result"
    }
   ],
   "source": [
    "a"
   ]
  },
  {
   "cell_type": "code",
   "execution_count": 4,
   "id": "c30d42ac",
   "metadata": {},
   "outputs": [],
   "source": [
    "def shift_func(output_coords):\n",
    "    return (output_coords[0] - 0.5, output_coords[1] - 0.5)"
   ]
  },
  {
   "cell_type": "code",
   "execution_count": 5,
   "id": "a5d84240",
   "metadata": {},
   "outputs": [
    {
     "data": {
      "text/plain": [
       "array([[0.    , 0.    , 0.    ],\n",
       "       [0.    , 1.3625, 2.7375],\n",
       "       [0.    , 4.8125, 6.1875],\n",
       "       [0.    , 8.2625, 9.6375]])"
      ]
     },
     "execution_count": 5,
     "metadata": {},
     "output_type": "execute_result"
    }
   ],
   "source": [
    "geometric_transform(a, shift_func)"
   ]
  },
  {
   "cell_type": "code",
   "execution_count": 6,
   "id": "1d5996e7",
   "metadata": {},
   "outputs": [],
   "source": [
    "b = [1, 2, 3, 4, 5]"
   ]
  },
  {
   "cell_type": "code",
   "execution_count": 7,
   "id": "3234a2b6",
   "metadata": {},
   "outputs": [],
   "source": [
    "def shift_func(output_coords):\n",
    "    return (output_coords[0] - 3,)"
   ]
  },
  {
   "cell_type": "code",
   "execution_count": 8,
   "id": "9dd05ed8",
   "metadata": {},
   "outputs": [
    {
     "data": {
      "text/plain": [
       "array([0, 0, 0, 1, 2])"
      ]
     },
     "execution_count": 8,
     "metadata": {},
     "output_type": "execute_result"
    }
   ],
   "source": [
    "geometric_transform(b, shift_func, mode='constant')"
   ]
  },
  {
   "cell_type": "code",
   "execution_count": 9,
   "id": "db3bc77f",
   "metadata": {},
   "outputs": [
    {
     "data": {
      "text/plain": [
       "array([1, 1, 1, 1, 2])"
      ]
     },
     "execution_count": 9,
     "metadata": {},
     "output_type": "execute_result"
    }
   ],
   "source": [
    "geometric_transform(b, shift_func, mode='nearest')"
   ]
  },
  {
   "cell_type": "code",
   "execution_count": 10,
   "id": "1caea031",
   "metadata": {},
   "outputs": [
    {
     "data": {
      "text/plain": [
       "array([3, 2, 1, 1, 2])"
      ]
     },
     "execution_count": 10,
     "metadata": {},
     "output_type": "execute_result"
    }
   ],
   "source": [
    "geometric_transform(b, shift_func, mode='reflect')"
   ]
  },
  {
   "cell_type": "code",
   "execution_count": 11,
   "id": "5bd14fdd",
   "metadata": {},
   "outputs": [
    {
     "data": {
      "text/plain": [
       "array([2, 3, 4, 1, 2])"
      ]
     },
     "execution_count": 11,
     "metadata": {},
     "output_type": "execute_result"
    }
   ],
   "source": [
    "geometric_transform(b, shift_func, mode='wrap')"
   ]
  },
  {
   "cell_type": "code",
   "execution_count": null,
   "id": "952dc296",
   "metadata": {},
   "outputs": [],
   "source": []
  }
 ],
 "metadata": {
  "kernelspec": {
   "display_name": "Python 3 (ipykernel)",
   "language": "python",
   "name": "python3"
  },
  "language_info": {
   "codemirror_mode": {
    "name": "ipython",
    "version": 3
   },
   "file_extension": ".py",
   "mimetype": "text/x-python",
   "name": "python",
   "nbconvert_exporter": "python",
   "pygments_lexer": "ipython3",
   "version": "3.10.5"
  }
 },
 "nbformat": 4,
 "nbformat_minor": 5
}
